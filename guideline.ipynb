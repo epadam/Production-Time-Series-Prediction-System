{
 "cells": [
  {
   "cell_type": "code",
   "execution_count": null,
   "id": "c8ba5811-c01f-4e63-88b6-820bd6b00c85",
   "metadata": {},
   "outputs": [],
   "source": [
    "import kfp\n",
    "import kfp.dsl as dsl\n",
    "import kfp.components as comp"
   ]
  },
  {
   "cell_type": "markdown",
   "id": "04c61ce7-a6ba-45eb-87e9-755b6791e48b",
   "metadata": {},
   "source": [
    "# Deal with data input/ouput, model store, and other parameters"
   ]
  },
  {
   "cell_type": "code",
   "execution_count": null,
   "id": "710e21ce-2b3d-4d15-a38d-7387865a7943",
   "metadata": {},
   "outputs": [],
   "source": []
  },
  {
   "cell_type": "markdown",
   "id": "8bab657f-e653-49dc-8353-bd4a696d87c7",
   "metadata": {},
   "source": [
    "# Deal with model code"
   ]
  },
  {
   "cell_type": "code",
   "execution_count": null,
   "id": "8f8a27f0-4490-4c0b-b588-6a42b3a6a62e",
   "metadata": {},
   "outputs": [],
   "source": []
  },
  {
   "cell_type": "markdown",
   "id": "163ac000-4c27-4ea4-a308-2db8ed6de1f8",
   "metadata": {},
   "source": [
    "# Build Components and pipeline (fetch data, training, deploy to seldon, can use tfx, dvc, mlflow, tfboard, mlrun)\n",
    "# make them python file or in notebook still"
   ]
  },
  {
   "cell_type": "code",
   "execution_count": null,
   "id": "0e68fab2-6617-4235-8d8c-71f6d1e0fc53",
   "metadata": {},
   "outputs": [],
   "source": []
  },
  {
   "cell_type": "markdown",
   "id": "86898973-1293-40c5-9495-a3779158831b",
   "metadata": {},
   "source": [
    "# Compile the pipeline for download or send them "
   ]
  },
  {
   "cell_type": "code",
   "execution_count": null,
   "id": "9c7e594a-d278-4817-8181-405b1b7cd0a1",
   "metadata": {},
   "outputs": [],
   "source": []
  }
 ],
 "metadata": {
  "kernelspec": {
   "display_name": "Python 3",
   "language": "python",
   "name": "python3"
  },
  "language_info": {
   "codemirror_mode": {
    "name": "ipython",
    "version": 3
   },
   "file_extension": ".py",
   "mimetype": "text/x-python",
   "name": "python",
   "nbconvert_exporter": "python",
   "pygments_lexer": "ipython3",
   "version": "3.8.10"
  }
 },
 "nbformat": 4,
 "nbformat_minor": 5
}
