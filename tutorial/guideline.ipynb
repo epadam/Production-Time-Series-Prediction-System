{
  "nbformat": 4,
  "nbformat_minor": 5,
  "metadata": {
    "kernelspec": {
      "display_name": "Python 3",
      "language": "python",
      "name": "python3"
    },
    "language_info": {
      "codemirror_mode": {
        "name": "ipython",
        "version": 3
      },
      "file_extension": ".py",
      "mimetype": "text/x-python",
      "name": "python",
      "nbconvert_exporter": "python",
      "pygments_lexer": "ipython3",
      "version": "3.8.10"
    },
    "colab": {
      "name": "guideline.ipynb",
      "provenance": []
    }
  },
  "cells": [
    {
      "cell_type": "code",
      "metadata": {
        "id": "1e5i5khSOyhf"
      },
      "source": [
        "EXPERIMENT_NAME = 'Simple notebook pipeline'        # Name of the experiment in the UI\n",
        "BASE_IMAGE = 'tensorflow/tensorflow:2.0.0b0-py3'"
      ],
      "id": "1e5i5khSOyhf",
      "execution_count": null,
      "outputs": []
    },
    {
      "cell_type": "code",
      "metadata": {
        "id": "c8ba5811-c01f-4e63-88b6-820bd6b00c85"
      },
      "source": [
        "import kfp\n",
        "import kfp.dsl as dsl\n",
        "import kfp.components as comp\n",
        "from kfp import compiler"
      ],
      "id": "c8ba5811-c01f-4e63-88b6-820bd6b00c85",
      "execution_count": null,
      "outputs": []
    },
    {
      "cell_type": "markdown",
      "metadata": {
        "id": "04c61ce7-a6ba-45eb-87e9-755b6791e48b"
      },
      "source": [
        "\n",
        "\n",
        "```\n",
        "### This is formatted as code\n",
        "### Define the storage(minIO, gcs, pvc)\n",
        "```\n",
        "\n",
        "# Deal with data input/ouput, model store, and other parameters"
      ],
      "id": "04c61ce7-a6ba-45eb-87e9-755b6791e48b"
    },
    {
      "cell_type": "code",
      "metadata": {
        "id": "710e21ce-2b3d-4d15-a38d-7387865a7943"
      },
      "source": [
        ""
      ],
      "id": "710e21ce-2b3d-4d15-a38d-7387865a7943",
      "execution_count": null,
      "outputs": []
    },
    {
      "cell_type": "markdown",
      "metadata": {
        "id": "8bab657f-e653-49dc-8353-bd4a696d87c7"
      },
      "source": [
        "# Deal with model code"
      ],
      "id": "8bab657f-e653-49dc-8353-bd4a696d87c7"
    },
    {
      "cell_type": "code",
      "metadata": {
        "id": "8f8a27f0-4490-4c0b-b588-6a42b3a6a62e"
      },
      "source": [
        ""
      ],
      "id": "8f8a27f0-4490-4c0b-b588-6a42b3a6a62e",
      "execution_count": null,
      "outputs": []
    },
    {
      "cell_type": "markdown",
      "metadata": {
        "id": "163ac000-4c27-4ea4-a308-2db8ed6de1f8"
      },
      "source": [
        "# Build Components and pipeline (fetch data, training, deploy to seldon, can use tfx, dvc, mlflow, tfboard, mlrun)\n",
        "# make them python file or in notebook still"
      ],
      "id": "163ac000-4c27-4ea4-a308-2db8ed6de1f8"
    },
    {
      "cell_type": "code",
      "metadata": {
        "id": "0e68fab2-6617-4235-8d8c-71f6d1e0fc53"
      },
      "source": [
        "@dsl.python_component(\n",
        "    name='add_op',\n",
        "    description='adds two numbers',\n",
        "    base_image=BASE_IMAGE  # you can define the base image here, or when you build in the next step. \n",
        ")\n",
        "def add(a: float, b: float) -> float:\n",
        "    '''Calculates sum of two arguments'''\n",
        "    print(a, '+', b, '=', a + b)\n",
        "    return a + b"
      ],
      "id": "0e68fab2-6617-4235-8d8c-71f6d1e0fc53",
      "execution_count": null,
      "outputs": []
    },
    {
      "cell_type": "code",
      "metadata": {
        "id": "faIAuNaJO-2y"
      },
      "source": [
        "# Convert the function to a pipeline operation.\n",
        "add_op = components.func_to_container_op(\n",
        "    add,\n",
        "    base_image=BASE_IMAGE, \n",
        ")"
      ],
      "id": "faIAuNaJO-2y",
      "execution_count": null,
      "outputs": []
    },
    {
      "cell_type": "markdown",
      "metadata": {
        "id": "7ydCDSNiQZS-"
      },
      "source": [
        "### f you have a image or want to build in python file"
      ],
      "id": "7ydCDSNiQZS-"
    },
    {
      "cell_type": "code",
      "metadata": {
        "id": "VnPEaiY2QTVk"
      },
      "source": [
        "def random_num_op(low, high):\n",
        "  \"\"\"Generate a random number between low and high.\"\"\"\n",
        "  return dsl.ContainerOp(\n",
        "      name='Generate random number',\n",
        "      image='python:alpine3.6',\n",
        "      command=['sh', '-c'],\n",
        "      arguments=['python -c \"import random; print(random.randint($0, $1))\" | tee $2',\n",
        "        str(low), str(high), '/tmp/output'],\n",
        "      file_outputs={'output': '/tmp/output'}\n",
        "    )\n"
      ],
      "id": "VnPEaiY2QTVk",
      "execution_count": null,
      "outputs": []
    },
    {
      "cell_type": "markdown",
      "metadata": {
        "id": "-KRJz5HIQoTa"
      },
      "source": [
        "### Build a pipeline"
      ],
      "id": "-KRJz5HIQoTa"
    },
    {
      "cell_type": "code",
      "metadata": {
        "id": "NBobvw7BQrPt"
      },
      "source": [
        "@dsl.pipeline(\n",
        "   name='Calculation pipeline',\n",
        "   description='A toy pipeline that performs arithmetic calculations.'\n",
        ")\n",
        "def calc_pipeline(\n",
        "   a: float =0,\n",
        "   b: float =7\n",
        "):\n",
        "    #Passing pipeline parameter and a constant value as operation arguments\n",
        "    add_task = add_op(a, 4) #Returns a dsl.ContainerOp class instance. \n",
        "    \n",
        "    #You can create explicit dependency between the tasks using xyz_task.after(abc_task)\n",
        "    add_2_task = add_op(a, b)\n",
        "    \n",
        "    add_3_task = add_op(add_task.output, add_2_task.output)"
      ],
      "id": "NBobvw7BQrPt",
      "execution_count": null,
      "outputs": []
    },
    {
      "cell_type": "code",
      "metadata": {
        "id": "v6XZwqnUQtDf"
      },
      "source": [
        "@dsl.pipeline(\n",
        "  name='Conditional execution pipeline',\n",
        "  description='Shows how to use dsl.Condition().'\n",
        ")\n",
        "def flipcoin_pipeline():\n",
        "  flip = flip_coin_op()\n",
        "  with dsl.Condition(flip.output == 'heads'):\n",
        "    random_num_head = random_num_op(0, 9)\n",
        "    with dsl.Condition(random_num_head.output > 5):\n",
        "      print_op('heads and %s > 5!' % random_num_head.output)\n",
        "    with dsl.Condition(random_num_head.output <= 5):\n",
        "      print_op('heads and %s <= 5!' % random_num_head.output)\n",
        "\n",
        "  with dsl.Condition(flip.output == 'tails'):\n",
        "    random_num_tail = random_num_op(10, 19)\n",
        "    with dsl.Condition(random_num_tail.output > 15):\n",
        "      print_op('tails and %s > 15!' % random_num_tail.output)\n",
        "    with dsl.Condition(random_num_tail.output <= 15):\n",
        "      print_op('tails and %s <= 15!' % random_num_tail.output)"
      ],
      "id": "v6XZwqnUQtDf",
      "execution_count": null,
      "outputs": []
    },
    {
      "cell_type": "code",
      "metadata": {
        "id": "VycrmPkyUzYF"
      },
      "source": [
        "@dsl.pipeline(\n",
        "  name='financial time series',\n",
        "  description='Train Financial Time Series'\n",
        ")\n",
        "def preprocess_train_deploy(\n",
        "        bucket: str = '<bucket>',\n",
        "        cutoff_year: str = '2010',\n",
        "        tag: str = '4',\n",
        "        model: str = 'DeepModel'\n",
        "):\n",
        "  \"\"\"Pipeline to train financial time series model\"\"\"\n",
        "  preprocess_op = Preprocess('preprocess', bucket, cutoff_year).apply(\n",
        "    gcp.use_gcp_secret('user-gcp-sa'))\n",
        "  #pylint: disable=unused-variable\n",
        "  train_op = Train('train', preprocess_op.output, tag,\n",
        "                   bucket, model).apply(gcp.use_gcp_secret('user-gcp-sa'))\n",
        "  with dsl.Condition(train_op.outputs['accuracy'] > 0.7):\n",
        "    deploy_op = Deploy('deploy', tag, bucket).apply(gcp.use_gcp_secret('user-gcp-sa'))\n"
      ],
      "id": "VycrmPkyUzYF",
      "execution_count": null,
      "outputs": []
    },
    {
      "cell_type": "markdown",
      "metadata": {
        "id": "86898973-1293-40c5-9495-a3779158831b"
      },
      "source": [
        "# Compile the pipeline for download or send them "
      ],
      "id": "86898973-1293-40c5-9495-a3779158831b"
    },
    {
      "cell_type": "markdown",
      "metadata": {
        "id": "RxYWhxP_U9cX"
      },
      "source": [
        "### Create run directly"
      ],
      "id": "RxYWhxP_U9cX"
    },
    {
      "cell_type": "code",
      "metadata": {
        "id": "9c7e594a-d278-4817-8181-405b1b7cd0a1"
      },
      "source": [
        "arguments = {'a': '7', 'b': '8'}\n",
        "# Launch a pipeline run given the pipeline function definition\n",
        "kfp.Client().create_run_from_pipeline_func(calc_pipeline, arguments=arguments, \n",
        "                                           experiment_name=EXPERIMENT_NAME)\n",
        "# The generated links below lead to the Experiment page and the pipeline run details page, respectively"
      ],
      "id": "9c7e594a-d278-4817-8181-405b1b7cd0a1",
      "execution_count": null,
      "outputs": []
    },
    {
      "cell_type": "markdown",
      "metadata": {
        "id": "uGmvg66YVCQ_"
      },
      "source": [
        "### Or Compile it then create exp\n",
        "### https://github.com/kubeflow/examples/blob/master/pipelines/simple-notebook-pipeline/Simple%20Notebook%20Pipeline.ipynb\n",
        "> Indented block\n",
        "\n"
      ],
      "id": "uGmvg66YVCQ_"
    },
    {
      "cell_type": "code",
      "metadata": {
        "id": "aDhUb1-uVBl4"
      },
      "source": [
        "# Compile the pipeline\n",
        "pipeline_func = calc_pipeline\n",
        "pipeline_filename = pipeline_func.__name__ + '.pipeline.zip'\n",
        "compiler.Compiler().compile(pipeline_func, pipeline_filename)"
      ],
      "id": "aDhUb1-uVBl4",
      "execution_count": null,
      "outputs": []
    },
    {
      "cell_type": "code",
      "metadata": {
        "id": "V2DnNfQxVOPj"
      },
      "source": [
        "client = kfp.Client()\n",
        "experiment = client.create_experiment(EXPERIMENT_NAME)"
      ],
      "id": "V2DnNfQxVOPj",
      "execution_count": null,
      "outputs": []
    },
    {
      "cell_type": "code",
      "metadata": {
        "id": "dcm0cg-qVS6c"
      },
      "source": [
        "# Specify pipeline argument values\n",
        "arguments = {'a': '7', 'b': '8'}\n",
        "\n",
        "# Submit a pipeline run\n",
        "run_name = pipeline_func.__name__ + ' run'\n",
        "run_result = client.run_pipeline(experiment.id, run_name, pipeline_filename, arguments)\n",
        "\n",
        "# The generated link below leads to the pipeline run information page."
      ],
      "id": "dcm0cg-qVS6c",
      "execution_count": null,
      "outputs": []
    }
  ]
}
